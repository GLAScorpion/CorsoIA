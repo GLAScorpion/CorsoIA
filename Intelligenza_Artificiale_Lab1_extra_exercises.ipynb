{
  "nbformat": 4,
  "nbformat_minor": 0,
  "metadata": {
    "colab": {
      "provenance": [],
      "include_colab_link": true
    },
    "kernelspec": {
      "name": "python3",
      "display_name": "Python 3"
    },
    "language_info": {
      "name": "python"
    }
  },
  "cells": [
    {
      "cell_type": "markdown",
      "metadata": {
        "id": "view-in-github",
        "colab_type": "text"
      },
      "source": [
        "<a href=\"https://colab.research.google.com/github/GLAScorpion/CorsoIA/blob/main/Intelligenza_Artificiale_Lab1_extra_exercises.ipynb\" target=\"_parent\"><img src=\"https://colab.research.google.com/assets/colab-badge.svg\" alt=\"Open In Colab\"/></a>"
      ]
    },
    {
      "cell_type": "markdown",
      "source": [
        "Es 1\n",
        "\n",
        "Write a program that asks the user for the base and height of\n",
        "a rectangle. Then print the perimeter and area value\n",
        "of the rectangle."
      ],
      "metadata": {
        "id": "Otsx9TGsRkcw"
      }
    },
    {
      "cell_type": "code",
      "source": [
        "# compute_perimeter (b, h) function that receives two parameters (base, height) in input and compute the perimeter\n",
        "def compute_perimeter(b,h) -> int:\n",
        "  return (b * 2) + h *2\n",
        "# computer_area (b, h) function that receives two parameters (base, height) in input and computer the area\n",
        "def computer_area(b,h) -> int:\n",
        "  return b * h\n",
        "\n",
        "# write the instructions to receive in input base and height and call the functions\n",
        "base = eval(input(\"Input base\\n\"))\n",
        "altezza = eval(input(\"Input altezza\\n\"))\n",
        "print(compute_perimeter(base,altezza))\n",
        "print(computer_area(base,altezza))"
      ],
      "metadata": {
        "id": "2KwWfbWCSxuJ",
        "outputId": "064a48d6-335b-469e-b28a-e196a696bef3",
        "colab": {
          "base_uri": "https://localhost:8080/"
        }
      },
      "execution_count": null,
      "outputs": [
        {
          "output_type": "stream",
          "name": "stdout",
          "text": [
            "Input base\n",
            "30\n",
            "Input altezza\n",
            "4\n",
            "68\n",
            "120\n"
          ]
        }
      ]
    },
    {
      "cell_type": "markdown",
      "source": [
        "Es 2\n",
        "\n",
        "s = input(\"What is your name? \")\n",
        "\n",
        "Print the type of the variable s, the length, the first and last character."
      ],
      "metadata": {
        "id": "iHvTLPCIVNgd"
      }
    },
    {
      "cell_type": "code",
      "source": [
        "s = input(\"What is your name? \")\n",
        "\n",
        "#Print the type of the variable s,\n",
        "print(type(s))\n",
        "#the length,\n",
        "print(len(s))\n",
        "#the first and last character.\n",
        "print(\"il primo è \" + s[0])\n",
        "print(\"l'ultimo è \" + s[len(s)-1])"
      ],
      "metadata": {
        "id": "lHpfwZzrVjZu",
        "outputId": "12dca6d8-bf14-486a-ec40-6e5865400371",
        "colab": {
          "base_uri": "https://localhost:8080/"
        }
      },
      "execution_count": null,
      "outputs": [
        {
          "output_type": "stream",
          "name": "stdout",
          "text": [
            "What is your name? Peterpaul\n",
            "<class 'str'>\n",
            "9\n",
            "il primo è P\n",
            "l'ultimo è l\n"
          ]
        }
      ]
    },
    {
      "cell_type": "markdown",
      "source": [
        "Es 3\n",
        "\n",
        "Write a program that asks for two numbers. If the sum of the two\n",
        "number exceeds 100, print ``Number too large''"
      ],
      "metadata": {
        "id": "clpUPxe_YQIG"
      }
    },
    {
      "cell_type": "code",
      "source": [
        "# ask number x\n",
        "x = input(\"Inserisi x\\n\")\n",
        "# ask number y\n",
        "y = input(\"Inserisci y\\n\")\n",
        "# compute the sum\n",
        "somma = eval(x) + eval(y)\n",
        "# verify the condition and add print\n",
        "if(somma > 100):\n",
        "  print(\"Number too large\")"
      ],
      "metadata": {
        "id": "Ety16BRBYhc4",
        "outputId": "2b1a3a53-2dad-45f8-982d-8823baf6b7c2",
        "colab": {
          "base_uri": "https://localhost:8080/"
        }
      },
      "execution_count": 1,
      "outputs": [
        {
          "output_type": "stream",
          "name": "stdout",
          "text": [
            "Inserisi x\n",
            "50\n",
            "Inserisci y\n",
            "60\n",
            "Number too large\n"
          ]
        }
      ]
    },
    {
      "cell_type": "markdown",
      "source": [
        "Es 4\n",
        "*   Fill an initially empty list with 10 values ​​read from keyboard.\n",
        "*   Print the largest and smallest value contained in the list"
      ],
      "metadata": {
        "id": "0YUYlXyDZqNW"
      }
    },
    {
      "cell_type": "code",
      "source": [
        "# Empty list\n",
        "lst = list()\n",
        "# Iterate\n",
        "for i in range(10):\n",
        "  # Ask for value\n",
        "  # Fill\n",
        "  lst.append(eval(input(\"Inserisci valore all'indice \" + str(i) + \"\\n\")))\n",
        "\n",
        "\n",
        "\n",
        "# Temp max\n",
        "# Temp min\n",
        "max = lst[0]\n",
        "min = lst[0]\n",
        "\n",
        "# Iterate and check which is the max and the min\n",
        "for x in lst:\n",
        "  if(x > max):\n",
        "    max = x\n",
        "  if(x < min):\n",
        "    min = x\n",
        "\n",
        "print(\"La lista era \" + str(lst))\n",
        "print(\"Il minimo è \" + str(min) + \". Il massimo è \" + str(max))"
      ],
      "metadata": {
        "id": "eVXNWg9EaPAj",
        "outputId": "5ba60eee-d837-4b75-a27e-5c1b51be7f69",
        "colab": {
          "base_uri": "https://localhost:8080/"
        }
      },
      "execution_count": 4,
      "outputs": [
        {
          "output_type": "stream",
          "name": "stdout",
          "text": [
            "Inserisci valore all'indice 0\n",
            "10\n",
            "Inserisci valore all'indice 1\n",
            "43\n",
            "Inserisci valore all'indice 2\n",
            "21\n",
            "Inserisci valore all'indice 3\n",
            "7\n",
            "Inserisci valore all'indice 4\n",
            "22\n",
            "Inserisci valore all'indice 5\n",
            "423\n",
            "Inserisci valore all'indice 6\n",
            "1\n",
            "Inserisci valore all'indice 7\n",
            "23\n",
            "Inserisci valore all'indice 8\n",
            "55\n",
            "Inserisci valore all'indice 9\n",
            "2\n",
            "La lista era [10, 43, 21, 7, 22, 423, 1, 23, 55, 2]\n",
            "Il minimo è 1. Il massimo è 423\n"
          ]
        }
      ]
    },
    {
      "cell_type": "markdown",
      "source": [
        "Es 5\n",
        "\n",
        "After importing the numpy module create an array\n",
        "of 100 random numbers with integer values ​​between 0 and\n",
        "50.\n",
        "\n",
        "Print all numbers greater than the mean and the\n",
        "their location\n",
        "\n",
        "NB: You find hints in the documentation"
      ],
      "metadata": {
        "id": "8agdEE-Jdola"
      }
    },
    {
      "cell_type": "code",
      "source": [
        "# import the numpy\n",
        "import numpy as np\n",
        "# create an array of 100 random numbers between 0 and 50\n",
        "arr = np.random.randint(50,size=(100))\n",
        "\n",
        "# compute the mean\n",
        "mean = arr.mean()\n",
        "# Print the expected number and the locations\n",
        "print(arr)\n",
        "\n",
        "print(\"La media è \" + str(mean))\n",
        "\n",
        "loc = np.where(arr == int(mean))\n",
        "for x in loc:\n",
        "  print(\"Presente alla locazione \" + str(x))"
      ],
      "metadata": {
        "id": "e98eXdmzeMaa",
        "outputId": "77184576-8149-4835-a10d-3cbae37a33f1",
        "colab": {
          "base_uri": "https://localhost:8080/"
        }
      },
      "execution_count": 12,
      "outputs": [
        {
          "output_type": "stream",
          "name": "stdout",
          "text": [
            "[ 7 36 34  0  3 35 15 40 26 24 29  1 28 30 47 32 38 34 28 33 48 19  5  8\n",
            "  2 18  1 47 11  0 45 19 12  9 40 27 23 24 19 37 34 23 11 48 44 14 20 34\n",
            " 23 14 47 38 35 15 37 11  8  6 49 12 43 34 37 41 35 17  8 40 19  0 32  6\n",
            "  2 14  1 28 12  9 40 15 42 10 23 45 47 31  5 26 38 11 28 39 14 36 34 25\n",
            " 19  3 33 29]\n",
            "La media è 24.28\n",
            "Presente alla locazione [ 9 37]\n"
          ]
        }
      ]
    },
    {
      "cell_type": "markdown",
      "source": [
        "Es 6\n",
        "\n",
        "Write a multiplier function(number_list) that\n",
        "given a list of numbers, multiply all of them together and returns the result. If the\n",
        "list is empty returns 0."
      ],
      "metadata": {
        "id": "F8WbV5-bgV6r"
      }
    },
    {
      "cell_type": "code",
      "source": [
        "# define the function\n",
        "def multiply(number_list):\n",
        "# check if it is empty\n",
        "  if(len(number_list) == 0):\n",
        "    return 0\n",
        "# multiple the values\n",
        "  mul = 1\n",
        "  for x in number_list:\n",
        "    mul = mul * x\n",
        "  return mul\n",
        "# define the list\n",
        "lst = np.random.randint(20,size=(10)).tolist()\n",
        "# call the function\n",
        "mul = multiply(lst)\n",
        "print(lst)\n",
        "print(\"Il risultato della moltiplicazione è \" + str(mul))"
      ],
      "metadata": {
        "id": "zrdWJ3zGgZO5",
        "outputId": "c384e0d5-7b2c-4828-e545-40181026fb0c",
        "colab": {
          "base_uri": "https://localhost:8080/"
        }
      },
      "execution_count": 14,
      "outputs": [
        {
          "output_type": "stream",
          "name": "stdout",
          "text": [
            "[1, 5, 2, 4, 7, 11, 2, 15, 4, 3]\n",
            "Il risultato della moltiplicazione è 1108800\n"
          ]
        }
      ]
    },
    {
      "cell_type": "markdown",
      "source": [
        "Es 7\n",
        "\n",
        "Write a countdown(string) function.\n",
        "The function takes a string as a parameter and returns the reversed\n",
        "string after making it lowercase all the\n",
        "characters and in uppercase only the last character (e.g\n",
        "example \"abcd\" becomes \"dcbA\"). Also manage the\n",
        "empty string case."
      ],
      "metadata": {
        "id": "_c_ZixcRhv7h"
      }
    },
    {
      "cell_type": "code",
      "source": [
        "def countdown(string):\n",
        "  #empty case\n",
        "  if(len(string) == 0):\n",
        "    return \"\"\n",
        "  res = \"\"\n",
        "  for s in string:\n",
        "    res = s.lower() + res\n",
        "  return res\n",
        "\n",
        "string = input(\"Insert a string\\n\")\n",
        "print(\"La stringa trasformata è \" + countdown(string))"
      ],
      "metadata": {
        "id": "f-o0VEUY-Ok5",
        "outputId": "d8dec4d6-4424-40ce-9ae4-88d20df5192f",
        "colab": {
          "base_uri": "https://localhost:8080/"
        }
      },
      "execution_count": 17,
      "outputs": [
        {
          "output_type": "stream",
          "name": "stdout",
          "text": [
            "Insert a string\n",
            "PeTerPaul\n",
            "La stringa trasformata è luapretep\n"
          ]
        }
      ]
    },
    {
      "cell_type": "markdown",
      "source": [
        "Es 8\n",
        "\n",
        "Write a function frequency(string). The function\n",
        "takes a string as a parameter and returns a\n",
        "dictionary representing the frequency of each\n",
        "character component of the string.\n",
        "For example, given a string \"ababcc\", the\n",
        "function returns result {\"a\": 2, \"b\": 2, \"c\":\n",
        "2}."
      ],
      "metadata": {
        "id": "wdm3E1Grjsoe"
      }
    },
    {
      "cell_type": "code",
      "source": [
        "def frequency(string):\n",
        "  res = dict()\n",
        "  for s in string:\n",
        "    if s in res:\n",
        "      res[s] = res[s] + 1\n",
        "    else:\n",
        "      res[s] = 1\n",
        "  return res\n",
        "\n",
        "string = input(\"Insert a string\\n\")\n",
        "for k, v in frequency(string).items():\n",
        "  print(\"Il carattere \\\"\" + k + \"\\\" appare \" + str(v) + \" volte\")"
      ],
      "metadata": {
        "id": "4-FTkuCAAGH8",
        "outputId": "ffe133ed-9347-4ee3-9a70-f3b098343aea",
        "colab": {
          "base_uri": "https://localhost:8080/"
        }
      },
      "execution_count": 21,
      "outputs": [
        {
          "output_type": "stream",
          "name": "stdout",
          "text": [
            "Insert a string\n",
            "C'era una volta un'ape\n",
            "Il carattere \"C\" appare 1 volte\n",
            "Il carattere \"'\" appare 2 volte\n",
            "Il carattere \"e\" appare 2 volte\n",
            "Il carattere \"r\" appare 1 volte\n",
            "Il carattere \"a\" appare 4 volte\n",
            "Il carattere \" \" appare 3 volte\n",
            "Il carattere \"u\" appare 2 volte\n",
            "Il carattere \"n\" appare 2 volte\n",
            "Il carattere \"v\" appare 1 volte\n",
            "Il carattere \"o\" appare 1 volte\n",
            "Il carattere \"l\" appare 1 volte\n",
            "Il carattere \"t\" appare 1 volte\n",
            "Il carattere \"p\" appare 1 volte\n"
          ]
        }
      ]
    }
  ]
}