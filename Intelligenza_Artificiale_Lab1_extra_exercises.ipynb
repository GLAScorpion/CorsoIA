{
  "nbformat": 4,
  "nbformat_minor": 0,
  "metadata": {
    "colab": {
      "provenance": [],
      "include_colab_link": true
    },
    "kernelspec": {
      "name": "python3",
      "display_name": "Python 3"
    },
    "language_info": {
      "name": "python"
    }
  },
  "cells": [
    {
      "cell_type": "markdown",
      "metadata": {
        "id": "view-in-github",
        "colab_type": "text"
      },
      "source": [
        "<a href=\"https://colab.research.google.com/github/GLAScorpion/CorsoIA/blob/main/Intelligenza_Artificiale_Lab1_extra_exercises.ipynb\" target=\"_parent\"><img src=\"https://colab.research.google.com/assets/colab-badge.svg\" alt=\"Open In Colab\"/></a>"
      ]
    },
    {
      "cell_type": "markdown",
      "source": [
        "Es 1\n",
        "\n",
        "Write a program that asks the user for the base and height of\n",
        "a rectangle. Then print the perimeter and area value\n",
        "of the rectangle."
      ],
      "metadata": {
        "id": "Otsx9TGsRkcw"
      }
    },
    {
      "cell_type": "code",
      "source": [
        "# compute_perimeter (b, h) function that receives two parameters (base, height) in input and compute the perimeter\n",
        "def compute_perimeter(b,h) -> int:\n",
        "  return (b * 2) + h *2\n",
        "# computer_area (b, h) function that receives two parameters (base, height) in input and computer the area\n",
        "def computer_area(b,h) -> int:\n",
        "  return b * h\n",
        "\n",
        "# write the instructions to receive in input base and height and call the functions\n",
        "base = eval(input(\"Input base\\n\"))\n",
        "altezza = eval(input(\"Input altezza\\n\"))\n",
        "print(compute_perimeter(base,altezza))\n",
        "print(computer_area(base,altezza))"
      ],
      "metadata": {
        "id": "2KwWfbWCSxuJ",
        "outputId": "064a48d6-335b-469e-b28a-e196a696bef3",
        "colab": {
          "base_uri": "https://localhost:8080/"
        }
      },
      "execution_count": 6,
      "outputs": [
        {
          "output_type": "stream",
          "name": "stdout",
          "text": [
            "Input base\n",
            "30\n",
            "Input altezza\n",
            "4\n",
            "68\n",
            "120\n"
          ]
        }
      ]
    },
    {
      "cell_type": "markdown",
      "source": [
        "Es 2\n",
        "\n",
        "s = input(\"What is your name? \")\n",
        "\n",
        "Print the type of the variable s, the length, the first and last character."
      ],
      "metadata": {
        "id": "iHvTLPCIVNgd"
      }
    },
    {
      "cell_type": "code",
      "source": [
        "s = input(\"What is your name? \")\n",
        "\n",
        "#Print the type of the variable s,\n",
        "print(type(s))\n",
        "#the length,\n",
        "print(len(s))\n",
        "#the first and last character.\n",
        "print(\"il primo è \" + s[0])\n",
        "print(\"l'ultimo è \" + s[len(s)-1])"
      ],
      "metadata": {
        "id": "lHpfwZzrVjZu",
        "outputId": "12dca6d8-bf14-486a-ec40-6e5865400371",
        "colab": {
          "base_uri": "https://localhost:8080/"
        }
      },
      "execution_count": 7,
      "outputs": [
        {
          "output_type": "stream",
          "name": "stdout",
          "text": [
            "What is your name? Peterpaul\n",
            "<class 'str'>\n",
            "9\n",
            "il primo è P\n",
            "l'ultimo è l\n"
          ]
        }
      ]
    },
    {
      "cell_type": "markdown",
      "source": [
        "Es 3\n",
        "\n",
        "Write a program that asks for two numbers. If the sum of the two\n",
        "number exceeds 100, print ``Number too large''"
      ],
      "metadata": {
        "id": "clpUPxe_YQIG"
      }
    },
    {
      "cell_type": "code",
      "source": [
        "# ask number x\n",
        "x = input(\"Inserisi x\\n\")\n",
        "# ask number y\n",
        "y = input(\"Inserisci y\\n\")\n",
        "# compute the sum\n",
        "somma = eval(x) + eval(y)\n",
        "# verify the condition and add print\n",
        "if(somma > 100):\n",
        "  print(\"Number too large\")"
      ],
      "metadata": {
        "id": "Ety16BRBYhc4",
        "outputId": "7aada8d7-0ebf-4d4b-9733-9318c6bd38ec",
        "colab": {
          "base_uri": "https://localhost:8080/"
        }
      },
      "execution_count": 8,
      "outputs": [
        {
          "name": "stdout",
          "output_type": "stream",
          "text": [
            "Inserisi x4\n",
            "Inserisci y5\n"
          ]
        }
      ]
    },
    {
      "cell_type": "markdown",
      "source": [
        "Es 4\n",
        "*   Fill an initially empty list with 10 values ​​read from keyboard.\n",
        "*   Print the largest and smallest value contained in the list"
      ],
      "metadata": {
        "id": "0YUYlXyDZqNW"
      }
    },
    {
      "cell_type": "code",
      "source": [
        "# Empty list\n",
        "\n",
        "# Iterate\n",
        "\n",
        "# Ask for value\n",
        "\n",
        "# Fill\n",
        "\n",
        "# Temp max\n",
        "# Temp min\n",
        "\n",
        "# Iterate and check which is the max and the min"
      ],
      "metadata": {
        "id": "eVXNWg9EaPAj"
      },
      "execution_count": null,
      "outputs": []
    },
    {
      "cell_type": "markdown",
      "source": [
        "Es 5\n",
        "\n",
        "After importing the numpy module create an array\n",
        "of 100 random numbers with integer values ​​between 0 and\n",
        "50.\n",
        "\n",
        "Print all numbers greater than the mean and the\n",
        "their location\n",
        "\n",
        "NB: You find hints in the documentation"
      ],
      "metadata": {
        "id": "8agdEE-Jdola"
      }
    },
    {
      "cell_type": "code",
      "source": [
        "# import the numpy\n",
        "\n",
        "# create an array of 100 random numbers between 0 and 50\n",
        "\n",
        "\n",
        "# compute the mean\n",
        "\n",
        "# Print the expected number and the locations"
      ],
      "metadata": {
        "id": "e98eXdmzeMaa"
      },
      "execution_count": null,
      "outputs": []
    },
    {
      "cell_type": "markdown",
      "source": [
        "Es 6\n",
        "\n",
        "Write a multiplier function(number_list) that\n",
        "given a list of numbers, multiply all of them together and returns the result. If the\n",
        "list is empty returns 0."
      ],
      "metadata": {
        "id": "F8WbV5-bgV6r"
      }
    },
    {
      "cell_type": "code",
      "source": [
        "# define the function\n",
        "\n",
        "# check if it is empty\n",
        "\n",
        "# multiple the values\n",
        "\n",
        "# define the list\n",
        "\n",
        "# call the function"
      ],
      "metadata": {
        "id": "zrdWJ3zGgZO5"
      },
      "execution_count": null,
      "outputs": []
    },
    {
      "cell_type": "markdown",
      "source": [
        "Es 7\n",
        "\n",
        "Write a countdown(string) function.\n",
        "The function takes a string as a parameter and returns the reversed\n",
        "string after making it lowercase all the\n",
        "characters and in uppercase only the last character (e.g\n",
        "example \"abcd\" becomes \"dcbA\"). Also manage the\n",
        "empty string case."
      ],
      "metadata": {
        "id": "_c_ZixcRhv7h"
      }
    },
    {
      "cell_type": "markdown",
      "source": [
        "Es 8\n",
        "\n",
        "Write a function frequency(string). The function\n",
        "takes a string as a parameter and returns a\n",
        "dictionary representing the frequency of each\n",
        "character component of the string.\n",
        "For example, given a string \"ababcc\", the\n",
        "function returns result {\"a\": 2, \"b\": 2, \"c\":\n",
        "2}."
      ],
      "metadata": {
        "id": "wdm3E1Grjsoe"
      }
    }
  ]
}