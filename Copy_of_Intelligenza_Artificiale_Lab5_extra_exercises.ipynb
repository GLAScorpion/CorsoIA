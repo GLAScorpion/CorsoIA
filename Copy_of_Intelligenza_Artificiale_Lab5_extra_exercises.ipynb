{
  "cells": [
    {
      "cell_type": "markdown",
      "metadata": {
        "id": "view-in-github",
        "colab_type": "text"
      },
      "source": [
        "<a href=\"https://colab.research.google.com/github/GLAScorpion/CorsoIA/blob/main/Copy_of_Intelligenza_Artificiale_Lab5_extra_exercises.ipynb\" target=\"_parent\"><img src=\"https://colab.research.google.com/assets/colab-badge.svg\" alt=\"Open In Colab\"/></a>"
      ]
    },
    {
      "cell_type": "markdown",
      "source": [
        "## EXERCISE 1: Weather's probability\n",
        "You are given a (fake) <a href=\"https://drive.google.com/file/d/1LjZLE9ozaHcBwiCl90mHaS1nXKcglfr4/view\">padua_weather.csv</a>\n",
        "of historical records for Padua's weather. The weather, which can be either rainy (= 1 in the dataset), misty (= 2), or sunny (= 3), is reported for each day of the week, for a whole year (52 weeks).\n",
        "\n",
        "After you formalised the problem (i.e. identify the random variables and necessary mathematical formulae), write a Python program that reads the dataset and computes the following:\n",
        "- probability of being sunny during the weekend (one or both days);\n",
        "- expected weather for each day of the week (*);\n",
        "- supposed you don't know which day of the week is today: although very unrealistic, how could you guess which day is today based only on the weather?\n",
        "\n",
        "(\\*) An expected value of, for example, 2.5 can be interpreted as \"a mix of misty and sunny weather\".\n",
        "\n",
        "\n"
      ],
      "metadata": {
        "id": "5cdVfkvhWpt_"
      }
    },
    {
      "cell_type": "code",
      "source": [
        "from google.colab import drive\n",
        "drive.mount('/content/drive')"
      ],
      "metadata": {
        "id": "7ljrxxbIAVfj",
        "outputId": "ee374a2e-8857-4787-c427-e513173dd392",
        "colab": {
          "base_uri": "https://localhost:8080/"
        }
      },
      "execution_count": null,
      "outputs": [
        {
          "output_type": "stream",
          "name": "stdout",
          "text": [
            "Mounted at /content/drive\n"
          ]
        }
      ]
    },
    {
      "cell_type": "code",
      "source": [
        "#load values from csv\n",
        "\n",
        "import pandas as pd\n",
        "\n",
        "df = pd.read_csv('drive/MyDrive/padua_weather.csv')\n",
        "\n",
        "days = df.columns.to_numpy()\n",
        "print(days)"
      ],
      "metadata": {
        "id": "8L-WFZ7PBWou",
        "outputId": "246a1de4-04fa-498e-be8a-2e84d375df1d",
        "colab": {
          "base_uri": "https://localhost:8080/"
        }
      },
      "execution_count": null,
      "outputs": [
        {
          "output_type": "stream",
          "name": "stdout",
          "text": [
            "['Monday' 'Tuesday' 'Wednesday' 'Thursday' 'Friday' 'Saturday' 'Sunday']\n"
          ]
        }
      ]
    },
    {
      "cell_type": "code",
      "source": [
        "#load data in weather dict\n",
        "\n",
        "weeks = 52\n",
        "\n",
        "weather_prob = dict()\n",
        "\n",
        "for day in days:\n",
        "  tmp = [0,0,0]\n",
        "  for x in df[day]:\n",
        "    tmp[x-1] = tmp[x-1] + 1\n",
        "  weather_prob[day] = [tmp[0]/weeks,tmp[1]/weeks,tmp[2]/weeks]\n",
        "\n",
        "print(weather_prob)"
      ],
      "metadata": {
        "id": "1tb3Eq74EO-Q",
        "outputId": "55c7dacb-e830-43f9-b614-f2a0add47bae",
        "colab": {
          "base_uri": "https://localhost:8080/"
        }
      },
      "execution_count": null,
      "outputs": [
        {
          "output_type": "stream",
          "name": "stdout",
          "text": [
            "{'Monday': [0.3269230769230769, 0.2692307692307692, 0.40384615384615385], 'Tuesday': [0.36538461538461536, 0.28846153846153844, 0.34615384615384615], 'Wednesday': [0.3076923076923077, 0.34615384615384615, 0.34615384615384615], 'Thursday': [0.36538461538461536, 0.3269230769230769, 0.3076923076923077], 'Friday': [0.36538461538461536, 0.3076923076923077, 0.3269230769230769], 'Saturday': [0.38461538461538464, 0.38461538461538464, 0.23076923076923078], 'Sunday': [0.5192307692307693, 0.21153846153846154, 0.2692307692307692]}\n"
          ]
        }
      ]
    },
    {
      "cell_type": "code",
      "source": [
        "#calc probability of being sunny during (Saturday || Sunday)\n",
        "rainy = 0\n",
        "misty = 1\n",
        "sunny = 2\n",
        "\n",
        "P_sunny_sat = weather_prob['Saturday'][sunny] * (1 - weather_prob['Sunday'][sunny])\n",
        "P_sunny_sun = weather_prob['Sunday'][sunny] * (1 - weather_prob['Saturday'][sunny])\n",
        "P_sunny_both = weather_prob['Saturday'][sunny] * weather_prob['Sunday'][sunny]\n",
        "\n",
        "P_sunny_wknd = P_sunny_sat + P_sunny_sun + P_sunny_both\n",
        "print(P_sunny_wknd)"
      ],
      "metadata": {
        "id": "1-VjF23XFnvI",
        "outputId": "c25ad992-c373-4d86-a95f-3fb46562c5c4",
        "colab": {
          "base_uri": "https://localhost:8080/"
        }
      },
      "execution_count": null,
      "outputs": [
        {
          "output_type": "stream",
          "name": "stdout",
          "text": [
            "0.4378698224852071\n"
          ]
        }
      ]
    },
    {
      "cell_type": "code",
      "source": [
        "#calc E[x] for each day\n",
        "E_x = dict()\n",
        "\n",
        "for day in days:\n",
        "  E_x[day] = 0\n",
        "  cnt = 1\n",
        "  for x in weather_prob[day]:\n",
        "    E_x[day] += cnt * x\n",
        "    cnt+= 1\n",
        "\n",
        "print(E_x)"
      ],
      "metadata": {
        "id": "ZGBzL0gQJLWz",
        "outputId": "9342708c-27ae-430b-97f8-3943a3264dee",
        "colab": {
          "base_uri": "https://localhost:8080/"
        }
      },
      "execution_count": null,
      "outputs": [
        {
          "output_type": "stream",
          "name": "stdout",
          "text": [
            "{'Monday': 2.076923076923077, 'Tuesday': 1.9807692307692306, 'Wednesday': 2.0384615384615383, 'Thursday': 1.9423076923076923, 'Friday': 1.9615384615384617, 'Saturday': 1.8461538461538463, 'Sunday': 1.75}\n"
          ]
        }
      ]
    },
    {
      "cell_type": "code",
      "source": [
        "#calc day from weather\n",
        "\n",
        "#calc prob of each weather type\n",
        "\n",
        "day_weather = dict()\n",
        "\n",
        "P_day = 1 / 7\n",
        "\n",
        "P_w = [0,0,0]\n",
        "\n",
        "for day in days:\n",
        "  cnt = 0\n",
        "  for p in weather_prob[day]:\n",
        "    P_w[cnt] += p * P_day\n",
        "    cnt += 1\n",
        "\n",
        "print(P_w)\n",
        "#print(P_w[0] + P_w[1] + P_w[2])\n",
        "\n",
        "#calc list of dict of weather type ranking days by probability\n",
        "\n",
        "P_d_w = [dict(),dict(),dict()]\n",
        "\n",
        "for w in range(3):\n",
        "  tmp_dict = dict()\n",
        "  for day in days:\n",
        "    tmp_dict[day] = weather_prob[day][w] * P_day / P_w[w]\n",
        "  tmp = sorted(tmp_dict, key=tmp_dict.get,reverse=True)\n",
        "  for day in tmp:\n",
        "    P_d_w[w][day] = tmp_dict[day]\n",
        "\n",
        "print(P_d_w[rainy])\n",
        "print(P_d_w[misty])\n",
        "print(P_d_w[sunny])"
      ],
      "metadata": {
        "id": "7B4CumIhM8i6",
        "outputId": "c8b28754-d14a-461f-b715-763d8fa559e1",
        "colab": {
          "base_uri": "https://localhost:8080/"
        }
      },
      "execution_count": null,
      "outputs": [
        {
          "output_type": "stream",
          "name": "stdout",
          "text": [
            "[0.3763736263736263, 0.30494505494505497, 0.31868131868131866]\n",
            "{'Sunday': 0.19708029197080296, 'Saturday': 0.14598540145985403, 'Tuesday': 0.1386861313868613, 'Thursday': 0.1386861313868613, 'Friday': 0.1386861313868613, 'Monday': 0.12408759124087593, 'Wednesday': 0.11678832116788324}\n",
            "{'Saturday': 0.18018018018018017, 'Wednesday': 0.16216216216216214, 'Thursday': 0.15315315315315314, 'Friday': 0.14414414414414414, 'Tuesday': 0.1351351351351351, 'Monday': 0.1261261261261261, 'Sunday': 0.09909909909909909}\n",
            "{'Monday': 0.1810344827586207, 'Tuesday': 0.15517241379310345, 'Wednesday': 0.15517241379310345, 'Friday': 0.14655172413793105, 'Thursday': 0.13793103448275865, 'Sunday': 0.12068965517241378, 'Saturday': 0.10344827586206898}\n"
          ]
        }
      ]
    },
    {
      "cell_type": "markdown",
      "source": [
        "## EXERCISE 2: Broad Street cholera outbreak\n",
        "\n",
        "The following is a simplified version of an example in Judea Pearl's *The Book of Why*. It refers to a case of cholera epidemic, caused by contaminated water, which killed hundreds of people in London between 1853 and 1854. The diagram below illustrates some of the key factors explaining this epidemic, in particular:\n",
        "- $X$ indicates whether the water company's intake was downstream of the London's sewers;\n",
        "- $W$ indicates whether the water was contaminated or not;\n",
        "- $Z$ indicates the presence of other external factors (e.g. poverty, miasma, etc.);\n",
        "- $Y$ indicates the outbreak of cholera.\n",
        "\n",
        "<img src='https://drive.google.com/uc?id=10O10x_nuuxF55rqRk0TpanHV_7Q819MA'>\n",
        "\n",
        "(please note the probabilities in the diagram are fake)\n",
        "\n",
        "> - Formalise the problem using opportune mathematical notations and derive an expression for computing the probability distribution of the cholera given that the water company's intake is upstream (i.e. what is the query? how can it be decomposed?)\n",
        "> - Write a Python program that computes the actual probabilities of the above distribution using the information from the given CPTs."
      ],
      "metadata": {
        "id": "GmiY-cDUhmhE"
      }
    },
    {
      "cell_type": "code",
      "source": [
        "import numpy as np\n",
        "t,f = 0 , 1\n",
        "\n",
        "P_z = 0.25\n",
        "P_x = 0.50\n",
        "\n",
        "P_W_ZX = np.array([[[0.90, 0.85],[0.10,0.02]],[[0.10,0.15],[0.90,0.98]]])\n",
        "\n",
        "P_Y_ZW = np.array([[[0.80,0.75],[0.15,0.05]],[[0.20,0.25],[0.85,0.95]]])\n",
        "\n",
        "print(P_W_ZX[:,:,t])"
      ],
      "metadata": {
        "id": "hB8ua4tuLR-f",
        "outputId": "403a3936-d02b-4283-8d05-0e19b5c094e2",
        "colab": {
          "base_uri": "https://localhost:8080/"
        }
      },
      "execution_count": null,
      "outputs": [
        {
          "output_type": "stream",
          "name": "stdout",
          "text": [
            "[[0.9 0.1]\n",
            " [0.1 0.9]]\n"
          ]
        }
      ]
    },
    {
      "cell_type": "markdown",
      "source": [
        "$$\n",
        "P(Y | ¬x) = P(Y | x) = α P(x) \\sum_{z} {\\bf P} (z) \\sum_{w} {\\bf P}(w | z,x) {\\bf P}(Y | z,w)\n",
        "$$"
      ],
      "metadata": {
        "id": "3wDjBduUR5wk"
      }
    },
    {
      "cell_type": "code",
      "source": [
        "# prima sommatoria da destra\n",
        "\n",
        "Phy_w = P_Y_ZW[:,:,t] + P_Y_ZW[:,:,f]\n",
        "\n",
        "print(Phy_w)"
      ],
      "metadata": {
        "id": "fjcvCfftTh26",
        "outputId": "399023f7-84d4-4518-9b97-1e530f49a699",
        "colab": {
          "base_uri": "https://localhost:8080/"
        }
      },
      "execution_count": null,
      "outputs": [
        {
          "output_type": "stream",
          "name": "stdout",
          "text": [
            "[[1.55 0.2 ]\n",
            " [0.45 1.8 ]]\n"
          ]
        }
      ]
    }
  ],
  "metadata": {
    "kernelspec": {
      "display_name": "Python 3",
      "language": "python",
      "name": "python3"
    },
    "language_info": {
      "codemirror_mode": {
        "name": "ipython",
        "version": 3
      },
      "file_extension": ".py",
      "mimetype": "text/x-python",
      "name": "python",
      "nbconvert_exporter": "python",
      "pygments_lexer": "ipython3",
      "version": "3.8.10"
    },
    "colab": {
      "provenance": [],
      "include_colab_link": true
    }
  },
  "nbformat": 4,
  "nbformat_minor": 0
}