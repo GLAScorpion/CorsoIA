{
  "nbformat": 4,
  "nbformat_minor": 0,
  "metadata": {
    "colab": {
      "provenance": [],
      "include_colab_link": true
    },
    "kernelspec": {
      "name": "python3",
      "display_name": "Python 3"
    },
    "language_info": {
      "name": "python"
    }
  },
  "cells": [
    {
      "cell_type": "markdown",
      "metadata": {
        "id": "view-in-github",
        "colab_type": "text"
      },
      "source": [
        "<a href=\"https://colab.research.google.com/github/GLAScorpion/CorsoIA/blob/main/Intelligenza_Artificiale_Lab2_extra_exercises.ipynb\" target=\"_parent\"><img src=\"https://colab.research.google.com/assets/colab-badge.svg\" alt=\"Open In Colab\"/></a>"
      ]
    },
    {
      "cell_type": "markdown",
      "source": [
        "Exercise 1"
      ],
      "metadata": {
        "id": "pYLNm9AZVEDf"
      }
    },
    {
      "cell_type": "markdown",
      "source": [
        "You are requested to program the software for an e-commerce site.\n",
        "\n",
        "You will need to create the objects (and classes) that represent the different entities needed in the site:\n",
        "\n",
        "\n",
        "*   A class Product\n",
        "*   A class PriceList\n",
        "*   A class Cart\n",
        "*   A class PremiumPriceList"
      ],
      "metadata": {
        "id": "oI3apfJLV4Ao"
      }
    },
    {
      "cell_type": "markdown",
      "source": [
        "A product has the following characteristics:\n",
        "*   id: unique numerical identifier of the product\n",
        "*   name: name of the product\n",
        "*   price: price of the product\n",
        "\n",
        "Add a method print to print the attributes of the Product"
      ],
      "metadata": {
        "id": "dVr3m-_1X-nQ"
      }
    },
    {
      "cell_type": "code",
      "execution_count": 14,
      "metadata": {
        "id": "Ong94kKaTkMg"
      },
      "outputs": [],
      "source": [
        "# code here\n",
        "class Product:\n",
        "  def __init__(self,id,name,price):\n",
        "    self.id = id\n",
        "    self.name = name\n",
        "    self.price = price\n",
        "  def print(self):\n",
        "    print(\"Il prodotto \" + self.name + \" ha id \" + str(self.id) + \" e prezzo €\" + str(self.price))"
      ]
    },
    {
      "cell_type": "markdown",
      "source": [
        "Now write the class PriceList that manages a shop's price list.\n",
        "\n",
        "This class contains instances of the Product class (the class just written).\n",
        "\n",
        "Furthermore, the PriceList class must allow the following functionalities:\n",
        "\n",
        "*  add Product in the PriceList\n",
        "*  find the price of a Product from its id\n",
        "*  compute the total value of the PriceList (given by the sum of the prices of each product contained in the PriceList)"
      ],
      "metadata": {
        "id": "oP-MISy6Z5zR"
      }
    },
    {
      "cell_type": "code",
      "source": [
        "# code here the class PriceList considering the functionalities mentioned before\n",
        "class PriceList:\n",
        "  def __init__(self, *products):\n",
        "    for p in products:\n",
        "      self.__dict__[p.id] = p\n",
        "\n",
        "  def add(self, *prod):\n",
        "    for p in prod:\n",
        "      self.__dict__[p.id] = p\n",
        "\n",
        "  def price(self,id):\n",
        "    return self.__dict__[id].price\n",
        "\n",
        "  def value(self):\n",
        "    tot = 0\n",
        "    for p in self.__dict__.values():\n",
        "      tot = tot + p.price\n",
        "    return tot\n",
        "  def print(self):\n",
        "    for p in self.__dict__.values():\n",
        "      p.print()"
      ],
      "metadata": {
        "id": "K8Fhl6aMc5C2"
      },
      "execution_count": 15,
      "outputs": []
    },
    {
      "cell_type": "code",
      "source": [
        "# add a main to check if all is working properly\n",
        "\n",
        "p1 = Product(1,\"succo\",3.4)\n",
        "p2 = Product(2,\"banana\", 0.30)\n",
        "p3 = Product(3,\"apecar\", 3000)\n",
        "p1.print()\n",
        "p2.print()\n",
        "p3.print()\n",
        "pList = PriceList(p1,p2,p3)\n",
        "pList.print()\n",
        "print(\"L'id 3 costa \" + str(pList.price(3)))\n",
        "print(\"Il valore è \" + str(pList.value()))\n",
        "p6 = Product(6,\"ragù di cervo\", 5.0)\n",
        "p10 = Product(10,\"yogurt\", 1.09)\n",
        "pList.add(p6, p10)\n",
        "pList.print()\n",
        "print(\"Il valore è \" + str(pList.value()))\n"
      ],
      "metadata": {
        "id": "5KKrmgHCc_G5",
        "outputId": "851cff27-83d1-455e-fd37-68696f3af126",
        "colab": {
          "base_uri": "https://localhost:8080/"
        }
      },
      "execution_count": 16,
      "outputs": [
        {
          "output_type": "stream",
          "name": "stdout",
          "text": [
            "Il prodotto succo ha id 1 e prezzo €3.4\n",
            "Il prodotto banana ha id 2 e prezzo €0.3\n",
            "Il prodotto apecar ha id 3 e prezzo €3000\n",
            "Il prodotto succo ha id 1 e prezzo €3.4\n",
            "Il prodotto banana ha id 2 e prezzo €0.3\n",
            "Il prodotto apecar ha id 3 e prezzo €3000\n",
            "L'id 3 costa 3000\n",
            "Il valore è 3003.7\n",
            "Il prodotto succo ha id 1 e prezzo €3.4\n",
            "Il prodotto banana ha id 2 e prezzo €0.3\n",
            "Il prodotto apecar ha id 3 e prezzo €3000\n",
            "Il prodotto ragù di cervo ha id 6 e prezzo €5.0\n",
            "Il prodotto yogurt ha id 10 e prezzo €1.09\n",
            "Il valore è 3009.79\n"
          ]
        }
      ]
    },
    {
      "cell_type": "markdown",
      "source": [
        "In addition to the Price List class, the Cart class also uses the Product class.\n",
        "\n",
        "The Cart class has the following functionalities:\n",
        "*   add a Product with the relative quantity\n",
        "*   compute the total value of the Cart (given by the sum of the prices of each product contained in the Cart)"
      ],
      "metadata": {
        "id": "ffgLRF9Edcm9"
      }
    },
    {
      "cell_type": "code",
      "source": [
        "# code here the class Cart considering the functionalities mentioned before\n",
        "class Cart:\n",
        "  def __init__(self,PriceList):\n",
        "    self.pricelist = PriceList\n",
        "    self.cart = dict()\n",
        "\n",
        "  def add(self,product,quantity):\n",
        "    if product.id not in self.cart.keys():\n",
        "      self.cart[product.id] = 0\n",
        "    self.cart[product.id] += quantity\n",
        "\n",
        "  def value(self):\n",
        "    tot = 0\n",
        "    for x in self.cart.keys():\n",
        "      tot += self.cart[x] * self.pricelist.price(x)\n",
        "    return tot\n"
      ],
      "metadata": {
        "id": "2LvtVxl0d7hg"
      },
      "execution_count": 38,
      "outputs": []
    },
    {
      "cell_type": "code",
      "source": [
        "# add a main to check if all is working properly\n",
        "c = Cart(pList)\n",
        "c.add(p1,3)\n",
        "c.add(p3,10)\n",
        "print(\"Il valore è \" + str(c.value()))"
      ],
      "metadata": {
        "id": "3bJt_p8ce_86",
        "outputId": "1694a8ae-fe9d-4747-f24a-a89fbf00b3f7",
        "colab": {
          "base_uri": "https://localhost:8080/"
        }
      },
      "execution_count": 39,
      "outputs": [
        {
          "output_type": "stream",
          "name": "stdout",
          "text": [
            "Il valore è 30010.2\n"
          ]
        }
      ]
    },
    {
      "cell_type": "markdown",
      "source": [
        "Now write the code of the PremiumPriceList class that inherits the attributes and methods from the PriceList class and adds the following features:\n",
        "*   compute the total price by indicating the product (via id) and quantity. However,  for a quantity greater than the one defined in the premium price list, a discount is applied (value defined in the price list) to the total price.\n",
        "\n",
        "NB: Based on this request, the PremiumPriceList will have two class variables inside to manage the quantity and the discount.\n",
        "\n",
        "\n",
        "*  copy prices from another PriceList. Given a L1 PriceList and a L2 PriceList given as a parameter, all the items and the relative prices of L2 will be copied to L1 with the exception of the items already present in L1 (NO overwriting)"
      ],
      "metadata": {
        "id": "nCo9dNg-ffoU"
      }
    },
    {
      "cell_type": "code",
      "source": [
        "# code here the class PremiumPriceList considering the functionalities mentioned before"
      ],
      "metadata": {
        "id": "jSQ50YyhhXgs"
      },
      "execution_count": null,
      "outputs": []
    },
    {
      "cell_type": "code",
      "source": [
        "# add a main to check if all is working properly"
      ],
      "metadata": {
        "id": "9-KygJhQidfD"
      },
      "execution_count": null,
      "outputs": []
    },
    {
      "cell_type": "markdown",
      "source": [
        "Exercise 2"
      ],
      "metadata": {
        "id": "RQLW8JVmM70e"
      }
    },
    {
      "cell_type": "markdown",
      "source": [
        "Starting from the list old_list = [[1, 1, 1], [2, 2, 2], [3, 3, 3]], create a shallow copy and then modify the list in order to store [[1, 1, 1], [2, 2, 'BB'], [3, 3, 3]]"
      ],
      "metadata": {
        "id": "EcIlmMBENA24"
      }
    },
    {
      "cell_type": "code",
      "source": [
        "# Use the module copy"
      ],
      "metadata": {
        "id": "bCy5N4lXNj6h"
      },
      "execution_count": null,
      "outputs": []
    },
    {
      "cell_type": "markdown",
      "source": [
        "Exercise 3"
      ],
      "metadata": {
        "id": "A8v8JXcVOAqk"
      }
    },
    {
      "cell_type": "markdown",
      "source": [
        "Starting from the list old_list = [[1, 1, 1], [2, 2, 2], [3, 3, 3]], create a deep copy and then modify the list in order to store [[1, 1, 1], [2, 2, 'BB'], [3, 3, 3]]"
      ],
      "metadata": {
        "id": "ljdBzXWLOCdE"
      }
    },
    {
      "cell_type": "code",
      "source": [
        "# Use the module copy"
      ],
      "metadata": {
        "id": "WCfRX1ewOUZ8"
      },
      "execution_count": null,
      "outputs": []
    },
    {
      "cell_type": "markdown",
      "source": [
        "Exercise 4"
      ],
      "metadata": {
        "id": "dwRNLj60Pf4F"
      }
    },
    {
      "cell_type": "markdown",
      "source": [
        "Write a Python class Restaurant with attributes:\n",
        "*   menu_items\n",
        "*   booked_table\n",
        "*   customer_orders\n",
        "\n",
        "and methods:\n",
        "*   add_item_to_menu(item, price)\n",
        "*   book_tables(table)\n",
        "*   customer_order(table, item)\n",
        "\n",
        "In the main, perform the following tasks now:\n",
        "\n",
        "    Now add items to the menu.\n",
        "    Make table reservations.\n",
        "    Take customer orders.\n",
        "    Print the menu.\n",
        "    Print table reservations.\n",
        "    Print customer orders.\n",
        "\n",
        "Note: Use dictionaries and lists to store the data."
      ],
      "metadata": {
        "id": "gsTq_zMgOPt9"
      }
    }
  ]
}