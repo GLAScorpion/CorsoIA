{
  "nbformat": 4,
  "nbformat_minor": 0,
  "metadata": {
    "colab": {
      "provenance": [],
      "include_colab_link": true
    },
    "kernelspec": {
      "name": "python3",
      "display_name": "Python 3"
    },
    "language_info": {
      "name": "python"
    }
  },
  "cells": [
    {
      "cell_type": "markdown",
      "metadata": {
        "id": "view-in-github",
        "colab_type": "text"
      },
      "source": [
        "<a href=\"https://colab.research.google.com/github/GLAScorpion/CorsoIA/blob/main/Intelligenza_Artificiale_Lab2_extra_exercises.ipynb\" target=\"_parent\"><img src=\"https://colab.research.google.com/assets/colab-badge.svg\" alt=\"Open In Colab\"/></a>"
      ]
    },
    {
      "cell_type": "markdown",
      "source": [
        "Exercise 1"
      ],
      "metadata": {
        "id": "pYLNm9AZVEDf"
      }
    },
    {
      "cell_type": "markdown",
      "source": [
        "You are requested to program the software for an e-commerce site.\n",
        "\n",
        "You will need to create the objects (and classes) that represent the different entities needed in the site:\n",
        "\n",
        "\n",
        "*   A class Product\n",
        "*   A class PriceList\n",
        "*   A class Cart\n",
        "*   A class PremiumPriceList"
      ],
      "metadata": {
        "id": "oI3apfJLV4Ao"
      }
    },
    {
      "cell_type": "markdown",
      "source": [
        "A product has the following characteristics:\n",
        "*   id: unique numerical identifier of the product\n",
        "*   name: name of the product\n",
        "*   price: price of the product\n",
        "\n",
        "Add a method print to print the attributes of the Product"
      ],
      "metadata": {
        "id": "dVr3m-_1X-nQ"
      }
    },
    {
      "cell_type": "code",
      "execution_count": 2,
      "metadata": {
        "id": "Ong94kKaTkMg"
      },
      "outputs": [],
      "source": [
        "# code here\n",
        "class Product:\n",
        "  def __init__(self,id,name,price):\n",
        "    self.id = id\n",
        "    self.name = name\n",
        "    self.price = price\n",
        "  def print(self):\n",
        "    print(\"Il prodotto \" + self.name + \" ha id \" + str(self.id) + \" e prezzo €\" + str(self.price))"
      ]
    },
    {
      "cell_type": "markdown",
      "source": [
        "Now write the class PriceList that manages a shop's price list.\n",
        "\n",
        "This class contains instances of the Product class (the class just written).\n",
        "\n",
        "Furthermore, the PriceList class must allow the following functionalities:\n",
        "\n",
        "*  add Product in the PriceList\n",
        "*  find the price of a Product from its id\n",
        "*  compute the total value of the PriceList (given by the sum of the prices of each product contained in the PriceList)"
      ],
      "metadata": {
        "id": "oP-MISy6Z5zR"
      }
    },
    {
      "cell_type": "code",
      "source": [
        "from re import S\n",
        "# code here the class PriceList considering the functionalities mentioned before\n",
        "class PriceList:\n",
        "  def __init__(self, *products):\n",
        "    self.__init__(products)\n",
        "\n",
        "  def __init__(self, products):\n",
        "    self.prod = dict()\n",
        "    for p in products:\n",
        "      self.prod[p.id] = p\n",
        "\n",
        "  def add(self, *prod):\n",
        "    for p in prod:\n",
        "      self.prod[p.id] = p\n",
        "\n",
        "  def price(self,id):\n",
        "    return self.prod[id].price\n",
        "\n",
        "  def value(self):\n",
        "    tot = 0\n",
        "    for p in self.prod.values():\n",
        "      tot = tot + p.price\n",
        "    return tot\n",
        "  def print(self):\n",
        "    for p in self.prod.values():\n",
        "      p.print()"
      ],
      "metadata": {
        "id": "K8Fhl6aMc5C2"
      },
      "execution_count": 9,
      "outputs": []
    },
    {
      "cell_type": "code",
      "source": [
        "# add a main to check if all is working properly\n",
        "\n",
        "p1 = Product(1,\"succo\",3.4)\n",
        "p2 = Product(2,\"banana\", 0.30)\n",
        "p3 = Product(3,\"apecar\", 3000)\n",
        "p1.print()\n",
        "p2.print()\n",
        "p3.print()\n",
        "pList = PriceList(p1,p2,p3)\n",
        "pList.print()\n",
        "print(\"L'id 3 costa \" + str(pList.price(3)))\n",
        "print(\"Il valore è \" + str(pList.value()))\n",
        "p6 = Product(6,\"ragù di cervo\", 5.0)\n",
        "p10 = Product(10,\"yogurt\", 1.09)\n",
        "pList.add(p6, p10)\n",
        "pList.print()\n",
        "print(\"Il valore è \" + str(pList.value()))\n"
      ],
      "metadata": {
        "id": "5KKrmgHCc_G5",
        "outputId": "93f5e1f6-c457-4e89-a4a8-88dc7d17ab5b",
        "colab": {
          "base_uri": "https://localhost:8080/"
        }
      },
      "execution_count": 3,
      "outputs": [
        {
          "output_type": "stream",
          "name": "stdout",
          "text": [
            "Il prodotto succo ha id 1 e prezzo €3.4\n",
            "Il prodotto banana ha id 2 e prezzo €0.3\n",
            "Il prodotto apecar ha id 3 e prezzo €3000\n",
            "Il prodotto succo ha id 1 e prezzo €3.4\n",
            "Il prodotto banana ha id 2 e prezzo €0.3\n",
            "Il prodotto apecar ha id 3 e prezzo €3000\n",
            "L'id 3 costa 3000\n",
            "Il valore è 3003.7\n",
            "Il prodotto succo ha id 1 e prezzo €3.4\n",
            "Il prodotto banana ha id 2 e prezzo €0.3\n",
            "Il prodotto apecar ha id 3 e prezzo €3000\n",
            "Il prodotto ragù di cervo ha id 6 e prezzo €5.0\n",
            "Il prodotto yogurt ha id 10 e prezzo €1.09\n",
            "Il valore è 3009.79\n"
          ]
        }
      ]
    },
    {
      "cell_type": "markdown",
      "source": [
        "In addition to the Price List class, the Cart class also uses the Product class.\n",
        "\n",
        "The Cart class has the following functionalities:\n",
        "*   add a Product with the relative quantity\n",
        "*   compute the total value of the Cart (given by the sum of the prices of each product contained in the Cart)"
      ],
      "metadata": {
        "id": "ffgLRF9Edcm9"
      }
    },
    {
      "cell_type": "code",
      "source": [
        "# code here the class Cart considering the functionalities mentioned before\n",
        "class Cart:\n",
        "  def __init__(self,PriceList):\n",
        "    self.pricelist = PriceList\n",
        "    self.cart = dict()\n",
        "\n",
        "  def add(self,product,quantity):\n",
        "    if product.id not in self.cart.keys():\n",
        "      self.cart[product.id] = 0\n",
        "    self.cart[product.id] += quantity\n",
        "\n",
        "  def value(self):\n",
        "    tot = 0\n",
        "    for x in self.cart.keys():\n",
        "      tot += self.cart[x] * self.pricelist.price(x)\n",
        "    return tot\n"
      ],
      "metadata": {
        "id": "2LvtVxl0d7hg"
      },
      "execution_count": 4,
      "outputs": []
    },
    {
      "cell_type": "code",
      "source": [
        "# add a main to check if all is working properly\n",
        "c = Cart(pList)\n",
        "c.add(p1,3)\n",
        "c.add(p3,10)\n",
        "print(\"Il valore è \" + str(c.value()))"
      ],
      "metadata": {
        "id": "3bJt_p8ce_86",
        "outputId": "7f459d96-c3f0-4940-8d90-2d060caf92c2",
        "colab": {
          "base_uri": "https://localhost:8080/"
        }
      },
      "execution_count": 5,
      "outputs": [
        {
          "output_type": "stream",
          "name": "stdout",
          "text": [
            "Il valore è 30010.2\n"
          ]
        }
      ]
    },
    {
      "cell_type": "markdown",
      "source": [
        "Now write the code of the PremiumPriceList class that inherits the attributes and methods from the PriceList class and adds the following features:\n",
        "*   compute the total price by indicating the product (via id) and quantity. However,  for a quantity greater than the one defined in the premium price list, a discount is applied (value defined in the price list) to the total price.\n",
        "\n",
        "NB: Based on this request, the PremiumPriceList will have two class variables inside to manage the quantity and the discount.\n",
        "\n",
        "\n",
        "*  copy prices from another PriceList. Given a L1 PriceList and a L2 PriceList given as a parameter, all the items and the relative prices of L2 will be copied to L1 with the exception of the items already present in L1 (NO overwriting)"
      ],
      "metadata": {
        "id": "nCo9dNg-ffoU"
      }
    },
    {
      "cell_type": "code",
      "source": [
        "# code here the class PremiumPriceList considering the functionalities mentioned before\n",
        "class PremiumPriceList(PriceList):\n",
        "  def __init__(self,threshold,discount,*products):\n",
        "    self.threshold = threshold\n",
        "    self.discount = 1 - discount\n",
        "    PriceList.__init__(self,products)\n",
        "\n",
        "  def copy(self,source):\n",
        "    for p in source.prod.values():\n",
        "       if p.id not in self.prod.keys():\n",
        "        self.prod[p.id] = p\n",
        "\n",
        "  def price(self,id,quantity):\n",
        "    discount = 1\n",
        "    if(quantity > self.threshold):\n",
        "      discount = self.discount\n",
        "    return discount * quantity * self.prod[id].price\n",
        ""
      ],
      "metadata": {
        "id": "jSQ50YyhhXgs"
      },
      "execution_count": 13,
      "outputs": []
    },
    {
      "cell_type": "code",
      "source": [
        "# add a main to check if all is working properly\n",
        "prem = PremiumPriceList(5,0.2,p1,p2,Product(3,\"apecar\",2500))\n",
        "\n",
        "prem.print()\n",
        "print(\"For 3 apecar the price is \" + str(prem.price(3,3)))\n",
        "print(\"For 7 apecar the price is {:.2f}\".format(prem.price(3,7)))\n",
        "prem.copy(pList)\n",
        "prem.print()"
      ],
      "metadata": {
        "id": "9-KygJhQidfD",
        "outputId": "5d3cf613-6ba2-470c-9083-0f3c3914593f",
        "colab": {
          "base_uri": "https://localhost:8080/"
        }
      },
      "execution_count": 20,
      "outputs": [
        {
          "output_type": "stream",
          "name": "stdout",
          "text": [
            "Il prodotto succo ha id 1 e prezzo €3.4\n",
            "Il prodotto banana ha id 2 e prezzo €0.3\n",
            "Il prodotto apecar ha id 3 e prezzo €2500\n",
            "For 3 apecar the price is 7500\n",
            "For 7 apecar the price is 14000.00\n",
            "Il prodotto succo ha id 1 e prezzo €3.4\n",
            "Il prodotto banana ha id 2 e prezzo €0.3\n",
            "Il prodotto apecar ha id 3 e prezzo €2500\n",
            "Il prodotto ragù di cervo ha id 6 e prezzo €5.0\n",
            "Il prodotto yogurt ha id 10 e prezzo €1.09\n"
          ]
        }
      ]
    },
    {
      "cell_type": "markdown",
      "source": [
        "Exercise 2"
      ],
      "metadata": {
        "id": "RQLW8JVmM70e"
      }
    },
    {
      "cell_type": "markdown",
      "source": [
        "Starting from the list old_list = [[1, 1, 1], [2, 2, 2], [3, 3, 3]], create a shallow copy and then modify the list in order to store [[1, 1, 1], [2, 2, 'BB'], [3, 3, 3]]"
      ],
      "metadata": {
        "id": "EcIlmMBENA24"
      }
    },
    {
      "cell_type": "code",
      "source": [
        "import copy\n",
        "# Use the module copy\n",
        "old_list = [[1, 1, 1], [2, 2, 2], [3, 3, 3]]\n",
        "cp = copy.copy(old_list)\n",
        "cp[1][2] = 'BB'\n",
        "print(cp)\n",
        "print(old_list)"
      ],
      "metadata": {
        "id": "bCy5N4lXNj6h",
        "outputId": "4de3397c-f479-447b-9c7d-a4ce1fdcf151",
        "colab": {
          "base_uri": "https://localhost:8080/"
        }
      },
      "execution_count": 21,
      "outputs": [
        {
          "output_type": "stream",
          "name": "stdout",
          "text": [
            "[[1, 1, 1], [2, 2, 'BB'], [3, 3, 3]]\n",
            "[[1, 1, 1], [2, 2, 'BB'], [3, 3, 3]]\n"
          ]
        }
      ]
    },
    {
      "cell_type": "markdown",
      "source": [
        "Exercise 3"
      ],
      "metadata": {
        "id": "A8v8JXcVOAqk"
      }
    },
    {
      "cell_type": "markdown",
      "source": [
        "Starting from the list old_list = [[1, 1, 1], [2, 2, 2], [3, 3, 3]], create a deep copy and then modify the list in order to store [[1, 1, 1], [2, 2, 'BB'], [3, 3, 3]]"
      ],
      "metadata": {
        "id": "ljdBzXWLOCdE"
      }
    },
    {
      "cell_type": "code",
      "source": [
        "# Use the module copy\n",
        "old_list = [[1, 1, 1], [2, 2, 2], [3, 3, 3]]\n",
        "dp = copy.deepcopy(old_list)\n",
        "dp[1][2] = 'BB'\n",
        "print(dp)\n",
        "print(old_list)"
      ],
      "metadata": {
        "id": "WCfRX1ewOUZ8",
        "outputId": "61bdcd25-b29e-4eb1-88fd-343cf72556f8",
        "colab": {
          "base_uri": "https://localhost:8080/"
        }
      },
      "execution_count": 22,
      "outputs": [
        {
          "output_type": "stream",
          "name": "stdout",
          "text": [
            "[[1, 1, 1], [2, 2, 'BB'], [3, 3, 3]]\n",
            "[[1, 1, 1], [2, 2, 2], [3, 3, 3]]\n"
          ]
        }
      ]
    },
    {
      "cell_type": "markdown",
      "source": [
        "Exercise 4"
      ],
      "metadata": {
        "id": "dwRNLj60Pf4F"
      }
    },
    {
      "cell_type": "markdown",
      "source": [
        "Write a Python class Restaurant with attributes:\n",
        "*   menu_items\n",
        "*   booked_table\n",
        "*   customer_orders\n",
        "\n",
        "and methods:\n",
        "*   add_item_to_menu(item, price)\n",
        "*   book_tables(table)\n",
        "*   customer_order(table, item)\n",
        "\n",
        "In the main, perform the following tasks now:\n",
        "\n",
        "    Now add items to the menu.\n",
        "    Make table reservations.\n",
        "    Take customer orders.\n",
        "    Print the menu.\n",
        "    Print table reservations.\n",
        "    Print customer orders.\n",
        "\n",
        "Note: Use dictionaries and lists to store the data."
      ],
      "metadata": {
        "id": "gsTq_zMgOPt9"
      }
    },
    {
      "cell_type": "code",
      "source": [
        "class Restaurant:\n",
        "  def __init__(self):\n",
        "    self.menu_items = dict()\n",
        "    self.booked_table = list()\n",
        "    self.customer_orders = dict()\n",
        "\n",
        "  def add_item_to_menu(self,item,price):\n",
        "    self.menu_items[item] = price\n",
        "\n",
        "  def book_tables(self,table):\n",
        "    self.booked_table.append(table)\n",
        "\n",
        "  def customer_order(self,table,*item):\n",
        "    if table in self.customer_orders.keys():\n",
        "      self.customer_orders[table].append(item)\n",
        "    else:\n",
        "      self.customer_orders[table] = item"
      ],
      "metadata": {
        "id": "Oi2J1hfr1tQD"
      },
      "execution_count": null,
      "outputs": []
    }
  ]
}