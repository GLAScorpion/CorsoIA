{
  "nbformat": 4,
  "nbformat_minor": 0,
  "metadata": {
    "colab": {
      "provenance": [],
      "include_colab_link": true
    },
    "kernelspec": {
      "name": "python3",
      "display_name": "Python 3"
    },
    "language_info": {
      "name": "python"
    }
  },
  "cells": [
    {
      "cell_type": "markdown",
      "metadata": {
        "id": "view-in-github",
        "colab_type": "text"
      },
      "source": [
        "<a href=\"https://colab.research.google.com/github/GLAScorpion/CorsoIA/blob/main/Intelligenza_Artificiale_Lab7_extra_exercises.ipynb\" target=\"_parent\"><img src=\"https://colab.research.google.com/assets/colab-badge.svg\" alt=\"Open In Colab\"/></a>"
      ]
    },
    {
      "cell_type": "markdown",
      "source": [
        "## EXERCISE 1\n",
        "\n",
        "<img src='https://drive.google.com/uc?id=1C2vyT2X19C_IekWf3rELuF4SumvJxo2b'>\n",
        "\n",
        "1) Write a Python script that computes P(g|do(r)) seen during the lecture\n",
        "\n",
        "2) What is the causal effect of the cloudy weather $c$ on the grass' wetness $g$? (i.e. math expression of $P(g | do(c))$\n",
        "\n",
        "3) Between rain and sprinkler, which one has the stronger causal effect on the wetness, $P(g | do(r))$ or $P(g | do(s))$ ?\n",
        "\n",
        "4) Compute the average causal effect (ACE) of the sprinkler on the wetness $g$."
      ],
      "metadata": {
        "id": "hA4mtAwrMtXO"
      }
    },
    {
      "cell_type": "code",
      "source": [
        "import numpy as np\n",
        "\n",
        "t,f = 0,1\n",
        "\n",
        "P_C = 0.5\n",
        "\n",
        "P_R_C = np.array([[0.8,0.1],[0.2,0.9]])\n",
        "P_S_C = np.array([[0.1,0.5],[0.9,0.5]])\n",
        "\n",
        "P_G_SR = np.array([[[0.95,0.90],[0.90,0.10]],[[0.05,0.10],[0.10,0.90]]])\n",
        "\n",
        "P_G_RC = P_R_C[]\n",
        "\n"
      ],
      "metadata": {
        "id": "ZP9SkKtD2gBy"
      },
      "execution_count": 4,
      "outputs": []
    }
  ]
}