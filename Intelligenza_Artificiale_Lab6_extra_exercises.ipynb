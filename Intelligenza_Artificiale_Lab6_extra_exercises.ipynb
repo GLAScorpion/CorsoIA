{
  "nbformat": 4,
  "nbformat_minor": 0,
  "metadata": {
    "colab": {
      "provenance": [],
      "include_colab_link": true
    },
    "kernelspec": {
      "name": "python3",
      "display_name": "Python 3"
    },
    "language_info": {
      "name": "python"
    }
  },
  "cells": [
    {
      "cell_type": "markdown",
      "metadata": {
        "id": "view-in-github",
        "colab_type": "text"
      },
      "source": [
        "<a href=\"https://colab.research.google.com/github/GLAScorpion/CorsoIA/blob/main/Intelligenza_Artificiale_Lab6_extra_exercises.ipynb\" target=\"_parent\"><img src=\"https://colab.research.google.com/assets/colab-badge.svg\" alt=\"Open In Colab\"/></a>"
      ]
    },
    {
      "cell_type": "markdown",
      "source": [
        "---\n",
        "\n",
        "## EXERCISE1: Burglary network\n",
        "\n",
        "Implement the *Prior Sampling* algorithm to do approximate inference on last week's Burglary network.\n",
        "\n",
        "<img src='https://drive.google.com/uc?id=11xqbchd4TCFSzdLVxNgr4SoeGfrSoqGO'>\n",
        "\n",
        "Verify that the algorithm can correctly approximate the probability $P(j, m, a, \\neg b, \\neg e) = 0.00063$\n",
        "\n",
        "Try different numbers of samples (e.g. $N = 10, 100, 1000, 10000$) and compare the results.\n",
        "\n",
        "---"
      ],
      "metadata": {
        "id": "_DvBIcx2F87I"
      }
    },
    {
      "cell_type": "code",
      "source": [
        "import numpy as np\n",
        "import random as rnd\n",
        "\n",
        "t, f = 0, 1\n",
        "\n",
        "def samplegen(Pdist, Parents = []):\n",
        "\tassert len(Parents) < len(Pdist.shape)\n",
        "\tif rnd.random() < Pdist[t][tuple(Parents)]:\n",
        "\t\treturn t\n",
        "\treturn f\n",
        "\n",
        "P_B = np.array([0.001,0.999])\n",
        "P_E = np.array([0.002,0.998])\n",
        "P_A_BE = np.array([[[0.95,0.94],[0.29,0.001]],[[0.05,0.06],[0.71,0.999]]])\n",
        "P_J_A = np.array([[0.90,0.05],[0.10,0.95]])\n",
        "P_M_A = np.array([[0.70,0.01],[0.3,0.99]])\n",
        "\n",
        "var = ['B','E','A','J','M']\n",
        "\n",
        "prd = {'B':P_B,'E':P_E,'A':P_A_BE,'J':P_J_A,'M':P_M_A}\n",
        "\n",
        "par = {'B':[],'E':[],'A':['B','E'],'J':['A'],'M':['A']}\n",
        "\n",
        "val = {'B':f,'E':f,'A':f,'J':f,'M':f}\n",
        "\n",
        "def parents(X):\n",
        "\treturn [val[i] for i in par[X]]\n",
        "\n",
        "def event_gen(sample_num = 1000):\n",
        "  event = []\n",
        "  for n in range(sample_num):\n",
        "    for x in var:\n",
        "      val[x] = samplegen(prd[x], parents(x))\n",
        "    event.append(['f' if val[x] else 't' for x in var])\n",
        "  return event\n",
        "\n",
        "for n in range(1,5):\n",
        "  num = pow(10,n)\n",
        "  event = event_gen(num)\n",
        "  prob = event.count(['f','f','t','t','t']) / len(event)\n",
        "  print( \"P(j,m,a,¬b,¬e) con \" + str(num) + \" sample vale: \" + str(prob))\n"
      ],
      "metadata": {
        "id": "qdD1l4MO22xb",
        "outputId": "df4d7467-8a67-438d-8e4e-d19f6b3fcc69",
        "colab": {
          "base_uri": "https://localhost:8080/"
        }
      },
      "execution_count": 5,
      "outputs": [
        {
          "output_type": "stream",
          "name": "stdout",
          "text": [
            "P(j,m,a,¬b,¬e) con 10 sample vale: 0.0\n",
            "P(j,m,a,¬b,¬e) con 100 sample vale: 0.0\n",
            "P(j,m,a,¬b,¬e) con 1000 sample vale: 0.0\n",
            "P(j,m,a,¬b,¬e) con 10000 sample vale: 0.0006\n"
          ]
        }
      ]
    },
    {
      "cell_type": "markdown",
      "source": [
        "---\n",
        "\n",
        "## EXERCISE2: Pomegranate for Day 2\n",
        "\n",
        "Use <tt>pomegranate</tt> to calculate the filtered probability of rain on Day 2 when we see an umbrella on Day 1 and Day 2.\n",
        "\n",
        "What is the filtered probability of rain on Day 2 when we see <tt>not umbrella</tt> on Day 1?\n",
        "\n",
        "How about if we just have no information about Umbrellas on Day 1 (i.e., only that rain on Day 2)?"
      ],
      "metadata": {
        "id": "e_xs0D_-zPqe"
      }
    }
  ]
}