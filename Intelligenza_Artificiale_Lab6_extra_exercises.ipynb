{
  "nbformat": 4,
  "nbformat_minor": 0,
  "metadata": {
    "colab": {
      "provenance": [],
      "include_colab_link": true
    },
    "kernelspec": {
      "name": "python3",
      "display_name": "Python 3"
    },
    "language_info": {
      "name": "python"
    }
  },
  "cells": [
    {
      "cell_type": "markdown",
      "metadata": {
        "id": "view-in-github",
        "colab_type": "text"
      },
      "source": [
        "<a href=\"https://colab.research.google.com/github/GLAScorpion/CorsoIA/blob/main/Intelligenza_Artificiale_Lab6_extra_exercises.ipynb\" target=\"_parent\"><img src=\"https://colab.research.google.com/assets/colab-badge.svg\" alt=\"Open In Colab\"/></a>"
      ]
    },
    {
      "cell_type": "markdown",
      "source": [
        "---\n",
        "\n",
        "## EXERCISE1: Burglary network\n",
        "\n",
        "Implement the *Prior Sampling* algorithm to do approximate inference on last week's Burglary network.\n",
        "\n",
        "<img src='https://drive.google.com/uc?id=11xqbchd4TCFSzdLVxNgr4SoeGfrSoqGO'>\n",
        "\n",
        "Verify that the algorithm can correctly approximate the probability $P(j, m, a, \\neg b, \\neg e) = 0.00063$\n",
        "\n",
        "Try different numbers of samples (e.g. $N = 10, 100, 1000, 10000$) and compare the results.\n",
        "\n",
        "---"
      ],
      "metadata": {
        "id": "_DvBIcx2F87I"
      }
    },
    {
      "cell_type": "code",
      "source": [
        "import numpy as np\n",
        "import random as rnd\n",
        "\n",
        "t, f = 0, 1\n",
        "\n",
        "def samplegen(Pdist, Parents = []):\n",
        "\tassert len(Parents) < len(Pdist.shape)\n",
        "\tif rnd.random() < Pdist[t][tuple(Parents)]:\n",
        "\t\treturn t\n",
        "\treturn f\n",
        "\n",
        "P_B = np.array([0.001,0.999])\n",
        "P_E = np.array([0.002,0.998])\n",
        "P_A_BE = np.array([[[0.95,0.94],[0.29,0.001]],[[0.05,0.06],[0.71,0.999]]])\n",
        "P_J_A = np.array([[0.90,0.05],[0.10,0.95]])\n",
        "P_M_A = np.array([[0.70,0.01],[0.3,0.99]])\n",
        "\n",
        "var = ['B','E','A','J','M']\n",
        "\n",
        "prd = {'B':P_B,'E':P_E,'A':P_A_BE,'J':P_J_A,'M':P_M_A}\n",
        "\n",
        "par = {'B':[],'E':[],'A':['B','E'],'J':['A'],'M':['A']}\n",
        "\n",
        "val = {'B':f,'E':f,'A':f,'J':f,'M':f}\n",
        "\n",
        "def parents(X):\n",
        "\treturn [val[i] for i in par[X]]\n",
        "\n",
        "def event_gen(sample_num = 1000):\n",
        "  event = []\n",
        "  for n in range(sample_num):\n",
        "    for x in var:\n",
        "      val[x] = samplegen(prd[x], parents(x))\n",
        "    event.append(['f' if val[x] else 't' for x in var])\n",
        "  return event\n",
        "\n",
        "for n in range(1,7):\n",
        "  val = {'B':f,'E':f,'A':f,'J':f,'M':f}\n",
        "  num = pow(10,n)\n",
        "  event = event_gen(num)\n",
        "  prob = event.count(['f','f','t','t','t']) / len(event)\n",
        "  print( \"P(j,m,a,¬b,¬e) con \" + str(num) + \" sample vale: \" + str(prob))\n"
      ],
      "metadata": {
        "colab": {
          "base_uri": "https://localhost:8080/"
        },
        "id": "qdD1l4MO22xb",
        "outputId": "41fef066-8611-4ec8-a8c2-dc92441d3698"
      },
      "execution_count": null,
      "outputs": [
        {
          "output_type": "stream",
          "name": "stdout",
          "text": [
            "P(j,m,a,¬b,¬e) con 10 sample vale: 0.0\n",
            "P(j,m,a,¬b,¬e) con 100 sample vale: 0.0\n",
            "P(j,m,a,¬b,¬e) con 1000 sample vale: 0.001\n",
            "P(j,m,a,¬b,¬e) con 10000 sample vale: 0.0004\n",
            "P(j,m,a,¬b,¬e) con 100000 sample vale: 0.00064\n",
            "P(j,m,a,¬b,¬e) con 1000000 sample vale: 0.000636\n"
          ]
        }
      ]
    },
    {
      "cell_type": "markdown",
      "source": [
        "---\n",
        "\n",
        "## EXERCISE2: Pomegranate for Day 2\n",
        "\n",
        "Use <tt>pomegranate</tt> to calculate the filtered probability of rain on Day 2 when we see an umbrella on Day 1 and Day 2.\n",
        "\n",
        "What is the filtered probability of rain on Day 2 when we see <tt>not umbrella</tt> on Day 1?\n",
        "\n",
        "How about if we just have no information about Umbrellas on Day 1 (i.e., only that rain on Day 2)?"
      ],
      "metadata": {
        "id": "e_xs0D_-zPqe"
      }
    },
    {
      "cell_type": "code",
      "execution_count": 1,
      "metadata": {
        "colab": {
          "base_uri": "https://localhost:8080/"
        },
        "id": "PRYrtwbVZn-K",
        "outputId": "1b3dcf13-f7bd-4a16-ed16-3ff2984a33c1"
      },
      "outputs": [
        {
          "output_type": "stream",
          "name": "stdout",
          "text": [
            "Requirement already satisfied: numpy in /usr/local/lib/python3.10/dist-packages (1.25.2)\n",
            "Collecting pomegranate==0.14.7\n",
            "  Downloading pomegranate-0.14.7.tar.gz (4.3 MB)\n",
            "\u001b[2K     \u001b[90m━━━━━━━━━━━━━━━━━━━━━━━━━━━━━━━━━━━━━━━━\u001b[0m \u001b[32m4.3/4.3 MB\u001b[0m \u001b[31m22.9 MB/s\u001b[0m eta \u001b[36m0:00:00\u001b[0m\n",
            "\u001b[?25h  Installing build dependencies ... \u001b[?25l\u001b[?25hdone\n",
            "  Getting requirements to build wheel ... \u001b[?25l\u001b[?25hdone\n",
            "  Preparing metadata (pyproject.toml) ... \u001b[?25l\u001b[?25hdone\n",
            "Requirement already satisfied: numpy>=1.20.0 in /usr/local/lib/python3.10/dist-packages (from pomegranate==0.14.7) (1.25.2)\n",
            "Requirement already satisfied: joblib>=0.9.0b4 in /usr/local/lib/python3.10/dist-packages (from pomegranate==0.14.7) (1.3.2)\n",
            "Requirement already satisfied: networkx>=2.4 in /usr/local/lib/python3.10/dist-packages (from pomegranate==0.14.7) (3.2.1)\n",
            "Requirement already satisfied: scipy>=0.17.0 in /usr/local/lib/python3.10/dist-packages (from pomegranate==0.14.7) (1.11.4)\n",
            "Requirement already satisfied: pyyaml in /usr/local/lib/python3.10/dist-packages (from pomegranate==0.14.7) (6.0.1)\n",
            "Building wheels for collected packages: pomegranate\n",
            "  Building wheel for pomegranate (pyproject.toml) ... \u001b[?25l\u001b[?25hdone\n",
            "  Created wheel for pomegranate: filename=pomegranate-0.14.7-cp310-cp310-linux_x86_64.whl size=21347293 sha256=0b049b361f808e1b007616630a2ef4b6d6e880bae51e5baeb67061e3e99a0b98\n",
            "  Stored in directory: /root/.cache/pip/wheels/9d/c3/22/31ee00d1c06723f41f60e65f5867850287d946a1b2992569e6\n",
            "Successfully built pomegranate\n",
            "Installing collected packages: pomegranate\n",
            "Successfully installed pomegranate-0.14.7\n"
          ]
        }
      ],
      "source": [
        "!pip install numpy\n",
        "!pip install pomegranate==0.14.7\n",
        "from pomegranate import *\n",
        "\n",
        "# Variables are RainN and UmbrellaN+1 for N = 0, 1, ...\n",
        "# We have a prior for Rain0, two values 'y'es and 'n'o:\n",
        "Rain0   = DiscreteDistribution({'y': 0.5, 'n': 0.5})\n",
        "\n",
        "# Transition model\n",
        "#\n",
        "# Conditional distribution relating RainN and RainN+1. Notation for\n",
        "# the conditional probability table is:\n",
        "#\n",
        "# [ 'RainN', 'RainN+1', <probability>]\n",
        "#\n",
        "# for the conditional value P(Sprinkler|Cloudy). Note that we have to\n",
        "# repeat the transition model for each pair of states\n",
        "Rain1 = ConditionalProbabilityTable(\n",
        "        [['y', 'y', 0.7],\n",
        "         ['y', 'n', 0.3],\n",
        "         ['n', 'y', 0.3],\n",
        "         ['n', 'n', 0.7]], [Rain0])\n",
        "\n",
        "Rain2 = ConditionalProbabilityTable(\n",
        "        [['y', 'y', 0.7],\n",
        "         ['y', 'n', 0.3],\n",
        "         ['n', 'y', 0.3],\n",
        "         ['n', 'n', 0.7]], [Rain1])\n",
        "\n",
        "# Sensor model\n",
        "#\n",
        "# Conditional distribution relating Rain and Umbrella:\n",
        "#\n",
        "# [ 'Umbrella', 'Rain', <probability>]\n",
        "#\n",
        "# for the conditional value P(Sprinkler|Cloudy). Values for Umbrella are 'y'es and 'n'o.\n",
        "# Again we have to enter the table for each day.\n",
        "Umbrella1 = ConditionalProbabilityTable(\n",
        "        [['y', 'y', 0.9],\n",
        "         ['y', 'n', 0.1],\n",
        "         ['n', 'y', 0.2],\n",
        "         ['n', 'n', 0.8]], [Rain1])\n",
        "\n",
        "Umbrella2 = ConditionalProbabilityTable(\n",
        "        [['y', 'y', 0.9],\n",
        "         ['y', 'n', 0.1],\n",
        "         ['n', 'y', 0.2],\n",
        "         ['n', 'n', 0.8]], [Rain2])\n",
        "#\n",
        "# The whole network has five nodes:\n",
        "s1 = Node(Rain0, name=\"Rain0\")\n",
        "s2 = Node(Rain1, name=\"Rain1\")\n",
        "s3 = Node(Umbrella1, name=\"Umbrella1\")\n",
        "s4 = Node(Rain2, name=\"Rain2\")\n",
        "s5 = Node(Umbrella2, name=\"Umbrella2\")\n",
        "# Create a network that includes nodes and edges between them:\n",
        "model = BayesianNetwork(\"Umbrella Network\")\n",
        "model.add_states(s1, s2, s3, s4, s5)\n",
        "model.add_edge(s1, s2)\n",
        "model.add_edge(s2, s3)\n",
        "model.add_edge(s2, s4)\n",
        "model.add_edge(s4, s5)\n",
        "# Fix the model structure\n",
        "model.bake()"
      ]
    }
  ]
}