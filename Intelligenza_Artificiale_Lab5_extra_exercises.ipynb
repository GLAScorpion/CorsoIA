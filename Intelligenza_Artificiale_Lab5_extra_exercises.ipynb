{
  "cells": [
    {
      "cell_type": "markdown",
      "metadata": {
        "id": "view-in-github",
        "colab_type": "text"
      },
      "source": [
        "<a href=\"https://colab.research.google.com/github/GLAScorpion/CorsoIA/blob/main/Intelligenza_Artificiale_Lab5_extra_exercises.ipynb\" target=\"_parent\"><img src=\"https://colab.research.google.com/assets/colab-badge.svg\" alt=\"Open In Colab\"/></a>"
      ]
    },
    {
      "cell_type": "markdown",
      "source": [
        "## EXERCISE 1: Weather's probability\n",
        "You are given a (fake) <a href=\"https://drive.google.com/file/d/1LjZLE9ozaHcBwiCl90mHaS1nXKcglfr4/view\">padua_weather.csv</a>\n",
        "of historical records for Padua's weather. The weather, which can be either rainy (= 1 in the dataset), misty (= 2), or sunny (= 3), is reported for each day of the week, for a whole year (52 weeks).\n",
        "\n",
        "After you formalised the problem (i.e. identify the random variables and necessary mathematical formulae), write a Python program that reads the dataset and computes the following:\n",
        "- probability of being sunny during the weekend (one or both days);\n",
        "- expected weather for each day of the week (*);\n",
        "- supposed you don't know which day of the week is today: although very unrealistic, how could you guess which day is today based only on the weather?\n",
        "\n",
        "(\\*) An expected value of, for example, 2.5 can be interpreted as \"a mix of misty and sunny weather\".\n",
        "\n",
        "\n"
      ],
      "metadata": {
        "id": "5cdVfkvhWpt_"
      }
    },
    {
      "cell_type": "code",
      "source": [
        "from google.colab import drive\n",
        "drive.mount('/content/drive')"
      ],
      "metadata": {
        "id": "7ljrxxbIAVfj",
        "outputId": "35b1b855-f9c8-4a66-a232-c2692f82589d",
        "colab": {
          "base_uri": "https://localhost:8080/"
        }
      },
      "execution_count": 2,
      "outputs": [
        {
          "output_type": "stream",
          "name": "stdout",
          "text": [
            "Mounted at /content/drive\n"
          ]
        }
      ]
    },
    {
      "cell_type": "code",
      "source": [
        "#load values from csv\n",
        "\n",
        "import pandas as pd\n",
        "\n",
        "df = pd.read_csv('drive/MyDrive/padua_weather.csv')\n",
        "\n",
        "days = df.columns.to_numpy()\n",
        "print(days)"
      ],
      "metadata": {
        "id": "8L-WFZ7PBWou",
        "outputId": "cdfb59c6-1d6f-4e88-cc2a-1a9c0a58551f",
        "colab": {
          "base_uri": "https://localhost:8080/"
        }
      },
      "execution_count": 7,
      "outputs": [
        {
          "output_type": "stream",
          "name": "stdout",
          "text": [
            "['Monday' 'Tuesday' 'Wednesday' 'Thursday' 'Friday' 'Saturday' 'Sunday']\n"
          ]
        }
      ]
    },
    {
      "cell_type": "code",
      "source": [
        "#load data in weather dict\n",
        "\n",
        "weeks = 52\n",
        "\n",
        "weather_prob = dict()\n",
        "\n",
        "for day in days:\n",
        "  tmp = [0,0,0]\n",
        "  for x in df[day]:\n",
        "    tmp[x-1] = tmp[x-1] + 1\n",
        "  weather_prob[day] = [tmp[0]/weeks,tmp[1]/weeks,tmp[2]/weeks]\n",
        "\n",
        "print(weather_prob)"
      ],
      "metadata": {
        "id": "1tb3Eq74EO-Q",
        "outputId": "52767e99-83b6-4671-837d-aa3aa8ddc35d",
        "colab": {
          "base_uri": "https://localhost:8080/"
        }
      },
      "execution_count": 11,
      "outputs": [
        {
          "output_type": "stream",
          "name": "stdout",
          "text": [
            "{'Monday': [0.3269230769230769, 0.2692307692307692, 0.40384615384615385], 'Tuesday': [0.36538461538461536, 0.28846153846153844, 0.34615384615384615], 'Wednesday': [0.3076923076923077, 0.34615384615384615, 0.34615384615384615], 'Thursday': [0.36538461538461536, 0.3269230769230769, 0.3076923076923077], 'Friday': [0.36538461538461536, 0.3076923076923077, 0.3269230769230769], 'Saturday': [0.38461538461538464, 0.38461538461538464, 0.23076923076923078], 'Sunday': [0.5192307692307693, 0.21153846153846154, 0.2692307692307692]}\n"
          ]
        }
      ]
    },
    {
      "cell_type": "code",
      "source": [
        "#calc probability of being sunny during (Saturday || Sunday)\n",
        "rainy = 0\n",
        "misty = 1\n",
        "sunny = 2\n",
        "\n",
        "P_sunny_sat = weather_prob['Saturday'][sunny] * (1 - weather_prob['Saturday'][sunny])\n",
        "P_sunny_sun = weather_prob['Sunday'][sunny] * (1 - weather_prob['Sunday'][sunny])\n",
        "P_sunny_both = weather_prob['Saturday'][sunny] * weather_prob['Sunday'][sunny]\n",
        "\n",
        "P_sunny_wknd = P_sunny_sat + P_sunny_sun + P_sunny_both\n",
        "print(P_sunny_wknd)"
      ],
      "metadata": {
        "id": "1-VjF23XFnvI",
        "outputId": "a534be6e-4ccf-4936-cc18-c75d3f1cb783",
        "colab": {
          "base_uri": "https://localhost:8080/"
        }
      },
      "execution_count": 13,
      "outputs": [
        {
          "output_type": "stream",
          "name": "stdout",
          "text": [
            "0.43639053254437865\n"
          ]
        }
      ]
    },
    {
      "cell_type": "code",
      "source": [
        "#calc E[x] for each day\n",
        "E_x = dict()\n",
        "\n",
        "for day in days:\n",
        "  E_x[day] = 0\n",
        "  cnt = 1\n",
        "  for x in weather_prob[day]:\n",
        "    E_x[day] += cnt * x\n",
        "    cnt+= 1\n",
        "\n",
        "print(E_x)"
      ],
      "metadata": {
        "id": "ZGBzL0gQJLWz",
        "outputId": "089525f4-0e1c-4e7a-ada2-c23f80ed9d99",
        "colab": {
          "base_uri": "https://localhost:8080/"
        }
      },
      "execution_count": 16,
      "outputs": [
        {
          "output_type": "stream",
          "name": "stdout",
          "text": [
            "{'Monday': 2.076923076923077, 'Tuesday': 1.9807692307692306, 'Wednesday': 2.0384615384615383, 'Thursday': 1.9423076923076923, 'Friday': 1.9615384615384617, 'Saturday': 1.8461538461538463, 'Sunday': 1.75}\n"
          ]
        }
      ]
    },
    {
      "cell_type": "markdown",
      "source": [
        "## EXERCISE 2: Broad Street cholera outbreak\n",
        "\n",
        "The following is a simplified version of an example in Judea Pearl's *The Book of Why*. It refers to a case of cholera epidemic, caused by contaminated water, which killed hundreds of people in London between 1853 and 1854. The diagram below illustrates some of the key factors explaining this epidemic, in particular:\n",
        "- $X$ indicates whether the water company's intake was downstream of the London's sewers;\n",
        "- $W$ indicates whether the water was contaminated or not;\n",
        "- $Z$ indicates the presence of other external factors (e.g. poverty, miasma, etc.);\n",
        "- $Y$ indicates the outbreak of cholera.\n",
        "\n",
        "<img src='https://drive.google.com/uc?id=10O10x_nuuxF55rqRk0TpanHV_7Q819MA'>\n",
        "\n",
        "(please note the probabilities in the diagram are fake)\n",
        "\n",
        "> - Formalise the problem using opportune mathematical notations and derive an expression for computing the probability distribution of the cholera given that the water company's intake is upstream (i.e. what is the query? how can it be decomposed?)\n",
        "> - Write a Python program that computes the actual probabilities of the above distribution using the information from the given CPTs."
      ],
      "metadata": {
        "id": "GmiY-cDUhmhE"
      }
    }
  ],
  "metadata": {
    "kernelspec": {
      "display_name": "Python 3",
      "language": "python",
      "name": "python3"
    },
    "language_info": {
      "codemirror_mode": {
        "name": "ipython",
        "version": 3
      },
      "file_extension": ".py",
      "mimetype": "text/x-python",
      "name": "python",
      "nbconvert_exporter": "python",
      "pygments_lexer": "ipython3",
      "version": "3.8.10"
    },
    "colab": {
      "provenance": [],
      "include_colab_link": true
    }
  },
  "nbformat": 4,
  "nbformat_minor": 0
}